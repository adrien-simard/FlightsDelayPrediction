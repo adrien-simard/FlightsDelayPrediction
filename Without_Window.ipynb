{
  "nbformat": 4,
  "nbformat_minor": 0,
  "metadata": {
    "colab": {
      "name": "DataProcess1.ipynb",
      "provenance": [],
      "collapsed_sections": []
    },
    "kernelspec": {
      "name": "python3",
      "display_name": "Python 3"
    },
    "language_info": {
      "name": "python"
    }
  },
  "cells": [
    {
      "cell_type": "code",
      "metadata": {
        "colab": {
          "base_uri": "https://localhost:8080/"
        },
        "id": "1XhcWXXVtd4X",
        "outputId": "6cf8e4f6-e897-47c2-e8ed-67c9749d30e8"
      },
      "source": [
        "from google.colab import drive\n",
        "drive.mount('/content/drive')"
      ],
      "execution_count": 1,
      "outputs": [
        {
          "output_type": "stream",
          "name": "stdout",
          "text": [
            "Mounted at /content/drive\n"
          ]
        }
      ]
    },
    {
      "cell_type": "code",
      "metadata": {
        "colab": {
          "base_uri": "https://localhost:8080/"
        },
        "id": "FHwnL07Bt6Ub",
        "outputId": "a04e1d0c-bb6f-4474-edbc-1a68e6f20693"
      },
      "source": [
        "!pip install pyspark"
      ],
      "execution_count": 2,
      "outputs": [
        {
          "output_type": "stream",
          "name": "stdout",
          "text": [
            "Collecting pyspark\n",
            "  Downloading pyspark-3.2.0.tar.gz (281.3 MB)\n",
            "\u001b[K     |████████████████████████████████| 281.3 MB 42 kB/s \n",
            "\u001b[?25hCollecting py4j==0.10.9.2\n",
            "  Downloading py4j-0.10.9.2-py2.py3-none-any.whl (198 kB)\n",
            "\u001b[K     |████████████████████████████████| 198 kB 58.0 MB/s \n",
            "\u001b[?25hBuilding wheels for collected packages: pyspark\n",
            "  Building wheel for pyspark (setup.py) ... \u001b[?25l\u001b[?25hdone\n",
            "  Created wheel for pyspark: filename=pyspark-3.2.0-py2.py3-none-any.whl size=281805912 sha256=6da47ec8efc26568b3a4fa7b8443ea91519d39d851ab88ccf11f0914e0905502\n",
            "  Stored in directory: /root/.cache/pip/wheels/0b/de/d2/9be5d59d7331c6c2a7c1b6d1a4f463ce107332b1ecd4e80718\n",
            "Successfully built pyspark\n",
            "Installing collected packages: py4j, pyspark\n",
            "Successfully installed py4j-0.10.9.2 pyspark-3.2.0\n"
          ]
        }
      ]
    },
    {
      "cell_type": "code",
      "metadata": {
        "id": "d_Squzoct2DZ"
      },
      "source": [
        "import pyspark\n",
        "from pyspark import SparkConf\n",
        "from pyspark.sql import SparkSession\n",
        "from pyspark.sql.types import IntegerType,BooleanType,DateType"
      ],
      "execution_count": 3,
      "outputs": []
    },
    {
      "cell_type": "markdown",
      "metadata": {
        "id": "tKeqCCu-uJra"
      },
      "source": [
        "Create spark session"
      ]
    },
    {
      "cell_type": "code",
      "metadata": {
        "id": "GMb5pkiFuNj4"
      },
      "source": [
        "spark = SparkSession \\\n",
        "    .builder \\\n",
        "    .appName(\"Spark app\") \\\n",
        "    .getOrCreate()"
      ],
      "execution_count": 4,
      "outputs": []
    },
    {
      "cell_type": "markdown",
      "metadata": {
        "id": "sYaelTrvuQYh"
      },
      "source": [
        "Loading data"
      ]
    },
    {
      "cell_type": "code",
      "metadata": {
        "colab": {
          "base_uri": "https://localhost:8080/"
        },
        "id": "ADTtdTpzuVy-",
        "outputId": "51bf7b3f-ceb5-4793-c162-579282e6a6b5"
      },
      "source": [
        "path = \"/content/drive/MyDrive/Colab Notebooks/datasets/2006.csv\"\n",
        "data = spark.read.csv(path,header=True)\n",
        "data.count()"
      ],
      "execution_count": 5,
      "outputs": [
        {
          "output_type": "execute_result",
          "data": {
            "text/plain": [
              "7141922"
            ]
          },
          "metadata": {},
          "execution_count": 5
        }
      ]
    },
    {
      "cell_type": "code",
      "metadata": {
        "id": "6JFatiSpKD3b"
      },
      "source": [
        "recursive_loaded_df = spark.read.format(\"csv\")\\\n",
        "    .option(\"recursiveFileLookup\", \"true\")\\\n",
        "    .option(\"header\",True)\\\n",
        "    .load(\"/content/drive/MyDrive/Colab Notebooks/datasets/flights\")\n",
        "recursive_loaded_df.take(10)"
      ],
      "execution_count": null,
      "outputs": []
    },
    {
      "cell_type": "markdown",
      "metadata": {
        "id": "qOFMerF_WWyY"
      },
      "source": [
        "# Data exploration"
      ]
    },
    {
      "cell_type": "code",
      "metadata": {
        "id": "2YYAZPUcYVJa"
      },
      "source": [
        "#remove some columns\n",
        "data = data.drop(*(\"ArrTime\",\"ActualElapsedTime\", \"AirTime\", \"TaxiIn\", \"Diverted\", \"CarrierDelay\", \"WeatherDelay\", \"NASDelay\", \"SecurityDelay\",\"LateAircraftDelay\", \"CancellationCode\", \"FlightNum\", \"TailNum\", \"Year\"))"
      ],
      "execution_count": 6,
      "outputs": []
    },
    {
      "cell_type": "markdown",
      "metadata": {
        "id": "qXCjHBKJwGC0"
      },
      "source": [
        "Change the type of the numerical columns\n"
      ]
    },
    {
      "cell_type": "code",
      "metadata": {
        "id": "gBAP6N85vVNa"
      },
      "source": [
        "data = data.withColumn(\"DepTime\",data.DepTime.cast('integer'))\n",
        "data = data.withColumn(\"CRSArrTime\",data.CRSArrTime.cast('integer'))\n",
        "data = data.withColumn(\"CRSElapsedTime\",data.CRSElapsedTime.cast('integer'))\n",
        "data = data.withColumn(\"ArrDelay\",data.ArrDelay.cast('integer'))\n",
        "data = data.withColumn(\"Distance\",data.Distance.cast('integer'))\n",
        "data = data.withColumn(\"CRSDepTime\",data.CRSDepTime.cast('integer'))\n",
        "data = data.withColumn(\"TaxiOut\",data.TaxiOut.cast('integer'))\n",
        "data = data.withColumn(\"DayOfWeek\",data.DayOfWeek.cast('integer'))\n",
        "data = data.withColumn(\"DepDelay\",data.DepDelay.cast('integer'))"
      ],
      "execution_count": 7,
      "outputs": []
    },
    {
      "cell_type": "markdown",
      "metadata": {
        "id": "CJvEhS8o2Za2"
      },
      "source": [
        "Check for missing values"
      ]
    },
    {
      "cell_type": "code",
      "metadata": {
        "colab": {
          "base_uri": "https://localhost:8080/"
        },
        "id": "VC4mAbOU0DOZ",
        "outputId": "dadb82ac-aa60-43d6-bc3e-4bba7f04210b"
      },
      "source": [
        "from pyspark.sql.functions import isnull, when, count, col\n",
        "\n",
        "data.select([count(when(col(c).isNull(), c)).alias(c) for c in data.columns]).show()"
      ],
      "execution_count": null,
      "outputs": [
        {
          "output_type": "stream",
          "name": "stdout",
          "text": [
            "+----+-----+----------+---------+-------+----------+----------+-------------+---------+--------------+--------+--------+------+----+--------+-------+---------+----------------+\n",
            "|Year|Month|DayofMonth|DayOfWeek|DepTime|CRSDepTime|CRSArrTime|UniqueCarrier|FlightNum|CRSElapsedTime|ArrDelay|DepDelay|Origin|Dest|Distance|TaxiOut|Cancelled|CancellationCode|\n",
            "+----+-----+----------+---------+-------+----------+----------+-------------+---------+--------------+--------+--------+------+----+--------+-------+---------+----------------+\n",
            "|   0|    0|         0|        0| 121934|         0|         0|            0|        0|             4|  138120|  121934|     0|   0|       0|      0|        0|         7019988|\n",
            "+----+-----+----------+---------+-------+----------+----------+-------------+---------+--------------+--------+--------+------+----+--------+-------+---------+----------------+\n",
            "\n"
          ]
        }
      ]
    },
    {
      "cell_type": "markdown",
      "metadata": {
        "id": "PqVP0idmwUcA"
      },
      "source": [
        "Drop the NA"
      ]
    },
    {
      "cell_type": "code",
      "metadata": {
        "id": "32Xzv5kSwPKJ",
        "colab": {
          "base_uri": "https://localhost:8080/"
        },
        "outputId": "6b9cc1d6-c1db-4388-8ddb-e65a8f66f10d"
      },
      "source": [
        "data = data.replace('NA', None)\n",
        "data = data.na.drop()\n",
        "data.head(10)"
      ],
      "execution_count": 8,
      "outputs": [
        {
          "output_type": "execute_result",
          "data": {
            "text/plain": [
              "[Row(Month='1', DayofMonth='11', DayOfWeek=3, DepTime=743, CRSDepTime=745, CRSArrTime=1018, UniqueCarrier='US', CRSElapsedTime=273, ArrDelay=6, DepDelay=-2, Origin='ATL', Dest='PHX', Distance=1587, TaxiOut=13, Cancelled='0'),\n",
              " Row(Month='1', DayofMonth='11', DayOfWeek=3, DepTime=1053, CRSDepTime=1053, CRSArrTime=1318, UniqueCarrier='US', CRSElapsedTime=265, ArrDelay=-5, DepDelay=0, Origin='ATL', Dest='PHX', Distance=1587, TaxiOut=19, Cancelled='0'),\n",
              " Row(Month='1', DayofMonth='11', DayOfWeek=3, DepTime=1915, CRSDepTime=1915, CRSArrTime=2133, UniqueCarrier='US', CRSElapsedTime=258, ArrDelay=-23, DepDelay=0, Origin='ATL', Dest='PHX', Distance=1587, TaxiOut=11, Cancelled='0'),\n",
              " Row(Month='1', DayofMonth='11', DayOfWeek=3, DepTime=1753, CRSDepTime=1755, CRSArrTime=1933, UniqueCarrier='US', CRSElapsedTime=158, ArrDelay=-8, DepDelay=-2, Origin='AUS', Dest='PHX', Distance=872, TaxiOut=10, Cancelled='0'),\n",
              " Row(Month='1', DayofMonth='11', DayOfWeek=3, DepTime=824, CRSDepTime=832, CRSArrTime=1015, UniqueCarrier='US', CRSElapsedTime=163, ArrDelay=0, DepDelay=-8, Origin='AUS', Dest='PHX', Distance=872, TaxiOut=12, Cancelled='0'),\n",
              " Row(Month='1', DayofMonth='11', DayOfWeek=3, DepTime=627, CRSDepTime=630, CRSArrTime=832, UniqueCarrier='US', CRSElapsedTime=122, ArrDelay=2, DepDelay=-3, Origin='BDL', Dest='CLT', Distance=644, TaxiOut=13, Cancelled='0'),\n",
              " Row(Month='1', DayofMonth='11', DayOfWeek=3, DepTime=825, CRSDepTime=820, CRSArrTime=1021, UniqueCarrier='US', CRSElapsedTime=121, ArrDelay=20, DepDelay=5, Origin='BDL', Dest='CLT', Distance=644, TaxiOut=21, Cancelled='0'),\n",
              " Row(Month='1', DayofMonth='11', DayOfWeek=3, DepTime=942, CRSDepTime=945, CRSArrTime=1148, UniqueCarrier='US', CRSElapsedTime=123, ArrDelay=7, DepDelay=-3, Origin='BDL', Dest='CLT', Distance=644, TaxiOut=8, Cancelled='0'),\n",
              " Row(Month='1', DayofMonth='11', DayOfWeek=3, DepTime=1239, CRSDepTime=1245, CRSArrTime=1445, UniqueCarrier='US', CRSElapsedTime=120, ArrDelay=-7, DepDelay=-6, Origin='BDL', Dest='CLT', Distance=644, TaxiOut=12, Cancelled='0'),\n",
              " Row(Month='1', DayofMonth='11', DayOfWeek=3, DepTime=1642, CRSDepTime=1645, CRSArrTime=1845, UniqueCarrier='US', CRSElapsedTime=120, ArrDelay=-4, DepDelay=-3, Origin='BDL', Dest='CLT', Distance=644, TaxiOut=10, Cancelled='0')]"
            ]
          },
          "metadata": {},
          "execution_count": 8
        }
      ]
    },
    {
      "cell_type": "code",
      "metadata": {
        "id": "vWXuLxNL4xtg"
      },
      "source": [
        "data = data.filter((data.Cancelled != 1))"
      ],
      "execution_count": 9,
      "outputs": []
    },
    {
      "cell_type": "code",
      "metadata": {
        "id": "-ONxFMIm6zdC"
      },
      "source": [
        "data = data.drop(\"Cancelled\")"
      ],
      "execution_count": 10,
      "outputs": []
    },
    {
      "cell_type": "code",
      "metadata": {
        "colab": {
          "base_uri": "https://localhost:8080/"
        },
        "id": "pkSP30uR7oBz",
        "outputId": "d9477def-75b7-4bd5-b9dc-92257104396c"
      },
      "source": [
        "data.select([count(when(col(c).isNull(), c)).alias(c) for c in data.columns]).show()"
      ],
      "execution_count": null,
      "outputs": [
        {
          "output_type": "stream",
          "name": "stdout",
          "text": [
            "+-----+----------+---------+-------+----------+----------+-------------+--------------+--------+--------+------+----+--------+-------+\n",
            "|Month|DayofMonth|DayOfWeek|DepTime|CRSDepTime|CRSArrTime|UniqueCarrier|CRSElapsedTime|ArrDelay|DepDelay|Origin|Dest|Distance|TaxiOut|\n",
            "+-----+----------+---------+-------+----------+----------+-------------+--------------+--------+--------+------+----+--------+-------+\n",
            "|    0|         0|        0|      0|         0|         0|            0|             0|       0|       0|     0|   0|       0|      0|\n",
            "+-----+----------+---------+-------+----------+----------+-------------+--------------+--------+--------+------+----+--------+-------+\n",
            "\n"
          ]
        }
      ]
    },
    {
      "cell_type": "markdown",
      "metadata": {
        "id": "cYkumV9c4LLs"
      },
      "source": [
        "Correlation"
      ]
    },
    {
      "cell_type": "code",
      "metadata": {
        "id": "MODavtG-3-XE"
      },
      "source": [
        "data_num = data.drop(\"UniqueCarrier\", \"Origin\", \"Dest\")\n",
        "data_num = data_num.withColumn(\"Month\",data_num.Month.cast('integer'))\n",
        "data_num = data_num.withColumn(\"DayofMonth\",data_num.DayofMonth.cast('integer'))\n",
        "data_num = data_num.withColumn(\"DepDelay\",data_num.DepDelay.cast('integer'))"
      ],
      "execution_count": null,
      "outputs": []
    },
    {
      "cell_type": "code",
      "metadata": {
        "colab": {
          "base_uri": "https://localhost:8080/"
        },
        "id": "CVcx12YLx4Jl",
        "outputId": "639aa546-5368-4b0f-c9bd-eb3a14e2da4a"
      },
      "source": [
        "data_num.printSchema()"
      ],
      "execution_count": null,
      "outputs": [
        {
          "output_type": "stream",
          "name": "stdout",
          "text": [
            "root\n",
            " |-- Month: integer (nullable = true)\n",
            " |-- DayofMonth: integer (nullable = true)\n",
            " |-- DayOfWeek: integer (nullable = true)\n",
            " |-- DepTime: integer (nullable = true)\n",
            " |-- CRSDepTime: integer (nullable = true)\n",
            " |-- CRSArrTime: integer (nullable = true)\n",
            " |-- CRSElapsedTime: integer (nullable = true)\n",
            " |-- ArrDelay: integer (nullable = true)\n",
            " |-- DepDelay: integer (nullable = true)\n",
            " |-- Distance: integer (nullable = true)\n",
            " |-- TaxiOut: integer (nullable = true)\n",
            "\n"
          ]
        }
      ]
    },
    {
      "cell_type": "code",
      "metadata": {
        "id": "x-Ycm-0IvVYx",
        "colab": {
          "base_uri": "https://localhost:8080/"
        },
        "outputId": "6d0c828c-6754-4d00-b03e-c41354d61614"
      },
      "source": [
        "for i in data_num.columns:\n",
        "    print(\"Corr entre ArrDelay\" + \" et \" + i + \": \", round(data_num.corr(\"ArrDelay\", i, method=None), 5))"
      ],
      "execution_count": null,
      "outputs": [
        {
          "output_type": "stream",
          "name": "stdout",
          "text": [
            "Corr entre ArrDelay et Month:  0.03089\n",
            "Corr entre ArrDelay et DayofMonth:  0.02191\n",
            "Corr entre ArrDelay et DayOfWeek:  0.0023\n",
            "Corr entre ArrDelay et DepTime:  0.19831\n",
            "Corr entre ArrDelay et CRSDepTime:  0.13918\n",
            "Corr entre ArrDelay et CRSArrTime:  0.13466\n",
            "Corr entre ArrDelay et CRSElapsedTime:  -0.00423\n",
            "Corr entre ArrDelay et ArrDelay:  1.0\n",
            "Corr entre ArrDelay et DepDelay:  0.91894\n",
            "Corr entre ArrDelay et Distance:  -0.01113\n",
            "Corr entre ArrDelay et TaxiOut:  0.33108\n"
          ]
        }
      ]
    },
    {
      "cell_type": "markdown",
      "metadata": {
        "id": "T_0kaGyl9kJz"
      },
      "source": [
        "Airlines, Origin and Destination rankings"
      ]
    },
    {
      "cell_type": "code",
      "metadata": {
        "id": "QuZ3K5PSASES"
      },
      "source": [
        "data_mean_delay = data.select(*(\"UniqueCarrier\", \"DepDelay\")).groupby(\"UniqueCarrier\").avg()\n",
        "origin_delay = data.select(*(\"Origin\",\"DepDelay\")).groupby('Origin').avg()"
      ],
      "execution_count": 11,
      "outputs": []
    },
    {
      "cell_type": "code",
      "metadata": {
        "id": "_eNfapKYKANp"
      },
      "source": [
        "data_mean_delay = data_mean_delay.sort(data_mean_delay[\"avg(DepDelay)\"].desc())"
      ],
      "execution_count": null,
      "outputs": []
    },
    {
      "cell_type": "code",
      "metadata": {
        "colab": {
          "base_uri": "https://localhost:8080/"
        },
        "id": "LaXIm3RVLcwp",
        "outputId": "b44b7197-c3c0-4d3d-e54f-0690375f35fe"
      },
      "source": [
        "from pyspark.sql.functions import udf, monotonically_increasing_id\n",
        "\n",
        "rank_airline = []\n",
        "for i in range(1, data_mean_delay.count()+1):\n",
        "  rank_airline.append(i)\n",
        "data_mean_delay = data_mean_delay.repartition(1).withColumn(\n",
        "                  \"CarrierRank\", \n",
        "                  udf(lambda id: rank_airline[id])(monotonically_increasing_id()))\n",
        "data_mean_delay.show()"
      ],
      "execution_count": 19,
      "outputs": [
        {
          "output_type": "stream",
          "name": "stdout",
          "text": [
            "+-------------+--------------------+-----------+\n",
            "|UniqueCarrier|       avg(DepDelay)|CarrierRank|\n",
            "+-------------+--------------------+-----------+\n",
            "|           EV|  16.444803057489683|          1|\n",
            "|           YV|   14.21797578876615|          2|\n",
            "|           TZ|  12.809553317841466|          3|\n",
            "|           UA|  11.861670779770893|          4|\n",
            "|           MQ|  11.406636901216148|          5|\n",
            "|           B6|  11.281664667941529|          6|\n",
            "|           CO|  10.989640735354536|          7|\n",
            "|           FL|  10.947953114437675|          8|\n",
            "|           AA|  10.660233408096946|          9|\n",
            "|           WN|  10.266443570144505|         10|\n",
            "|           XE|   9.845864801604474|         11|\n",
            "|           OH|   9.340723221049908|         12|\n",
            "|           AS|   9.241138014992044|         13|\n",
            "|           OO|   8.822488660275894|         14|\n",
            "|           DL|   8.075289726692661|         15|\n",
            "|           US|   7.857690131122144|         16|\n",
            "|           NW|   6.980419835801923|         17|\n",
            "|           F9|  5.0657204358939865|         18|\n",
            "|           AQ|-0.13789817194674675|         19|\n",
            "|           HA| -1.2273611619440217|         20|\n",
            "+-------------+--------------------+-----------+\n",
            "\n"
          ]
        }
      ]
    },
    {
      "cell_type": "code",
      "metadata": {
        "id": "2mvmZCrDBGja"
      },
      "source": [
        "# from pyspark.sql import Window\n",
        "# import pyspark.sql.functions as psf\n",
        "\n",
        "# wM = Window.orderBy(psf.desc(\"avg(DepDelay)\"))\n",
        "# data_mean_delay = data_mean_delay.withColumn(\n",
        "#     \"CarrierRank\", \n",
        "#     psf.dense_rank().over(wM)\n",
        "# )"
      ],
      "execution_count": null,
      "outputs": []
    },
    {
      "cell_type": "code",
      "metadata": {
        "id": "JeZJBefcDcts"
      },
      "source": [
        "data = data.join(data_mean_delay, on=['UniqueCarrier'])"
      ],
      "execution_count": 21,
      "outputs": []
    },
    {
      "cell_type": "code",
      "metadata": {
        "id": "dJE4kr_1ECCj"
      },
      "source": [
        "data = data.drop(\"avg(DepDelay)\")"
      ],
      "execution_count": 23,
      "outputs": []
    },
    {
      "cell_type": "code",
      "metadata": {
        "id": "pVpojDOQQ0Rj"
      },
      "source": [
        "origin_delay = origin_delay.sort(origin_delay[\"avg(DepDelay)\"].desc())"
      ],
      "execution_count": 25,
      "outputs": []
    },
    {
      "cell_type": "code",
      "metadata": {
        "colab": {
          "base_uri": "https://localhost:8080/"
        },
        "id": "aQqOgqhaREcp",
        "outputId": "d58bf352-420b-48e9-b576-271c61b53781"
      },
      "source": [
        "rank_origin = []\n",
        "for i in range(1, origin_delay.count()+1):\n",
        "  rank_origin.append(i)\n",
        "origin_delay = origin_delay.repartition(1).withColumn(\n",
        "                  \"OriginRank\", \n",
        "                  udf(lambda id: rank_origin[id])(monotonically_increasing_id()))\n",
        "origin_delay.show()"
      ],
      "execution_count": 26,
      "outputs": [
        {
          "output_type": "stream",
          "name": "stdout",
          "text": [
            "+------+------------------+----------+\n",
            "|Origin|     avg(DepDelay)|OriginRank|\n",
            "+------+------------------+----------+\n",
            "|   ACK| 33.46341463414634|         1|\n",
            "|   ADK|32.853658536585364|         2|\n",
            "|   CKB|              20.0|         3|\n",
            "|   FAY| 19.16370808678501|         4|\n",
            "|   PFN|18.377441211638104|         5|\n",
            "|   CWA|18.070628768303187|         6|\n",
            "|   ORD| 17.67121689741845|         7|\n",
            "|   AKN| 17.44345238095238|         8|\n",
            "|   EYW|17.399795501022496|         9|\n",
            "|   LWB| 17.17098445595855|        10|\n",
            "|   ISO|16.878260869565217|        11|\n",
            "|   SPI|16.844975490196077|        12|\n",
            "|   CEC| 16.66980146290491|        13|\n",
            "|   BMI|16.587812789620017|        14|\n",
            "|   SBN|16.511060259344013|        15|\n",
            "|   AVL|16.116638655462186|        16|\n",
            "|   AGS| 16.11581793600721|        17|\n",
            "|   ROA|15.788389977673035|        18|\n",
            "|   CAE|15.777494072587999|        19|\n",
            "|   GNV|15.544903581267217|        20|\n",
            "+------+------------------+----------+\n",
            "only showing top 20 rows\n",
            "\n"
          ]
        }
      ]
    },
    {
      "cell_type": "code",
      "metadata": {
        "id": "F3yyoAiNDE0Y"
      },
      "source": [
        "# wO = Window.orderBy(psf.desc(\"avg(DepDelay)\"))\n",
        "# origin_delay = origin_delay.withColumn(\n",
        "#     \"OriginRank\", \n",
        "#     psf.dense_rank().over(wO)\n",
        "# )"
      ],
      "execution_count": null,
      "outputs": []
    },
    {
      "cell_type": "code",
      "metadata": {
        "id": "BPx2D01SE27l"
      },
      "source": [
        "data = data.join(origin_delay, on=['Origin'])"
      ],
      "execution_count": 27,
      "outputs": []
    },
    {
      "cell_type": "code",
      "metadata": {
        "id": "6vvFQZXGE_JS"
      },
      "source": [
        "data = data.drop(\"avg(DepDelay)\")"
      ],
      "execution_count": 28,
      "outputs": []
    },
    {
      "cell_type": "code",
      "metadata": {
        "id": "RADIqlZILbdC"
      },
      "source": [
        "data = data.drop(*('Origin', 'UniqueCarrier'))"
      ],
      "execution_count": 30,
      "outputs": []
    },
    {
      "cell_type": "code",
      "metadata": {
        "id": "fwepl6E9LpCA"
      },
      "source": [
        "dest_delay = data.select(*(\"Dest\",\"DepDelay\")).groupby('Dest').avg()"
      ],
      "execution_count": 32,
      "outputs": []
    },
    {
      "cell_type": "code",
      "metadata": {
        "id": "GpF-nmCUShAM"
      },
      "source": [
        "dest_delay = dest_delay.sort(dest_delay[\"avg(DepDelay)\"].desc())"
      ],
      "execution_count": 33,
      "outputs": []
    },
    {
      "cell_type": "code",
      "metadata": {
        "id": "3TvflOf5L_Sj"
      },
      "source": [
        "# wD = Window.orderBy(psf.desc(\"avg(DepDelay)\"))\n",
        "# dest_delay = dest_delay.withColumn(\n",
        "#     \"DestRank\", \n",
        "#     psf.dense_rank().over(wD)\n",
        "# )"
      ],
      "execution_count": null,
      "outputs": []
    },
    {
      "cell_type": "code",
      "metadata": {
        "colab": {
          "base_uri": "https://localhost:8080/"
        },
        "id": "VSlP6nF2SoRD",
        "outputId": "8fdd5c35-6f43-41dc-ca5c-2af700875ee3"
      },
      "source": [
        "rank_dest = []\n",
        "for i in range(1, dest_delay.count()+1):\n",
        "  rank_dest.append(i)\n",
        "dest_delay = dest_delay.repartition(1).withColumn(\n",
        "                  \"DestRank\", \n",
        "                  udf(lambda id: rank_dest[id])(monotonically_increasing_id()))\n",
        "dest_delay.show()"
      ],
      "execution_count": 34,
      "outputs": [
        {
          "output_type": "stream",
          "name": "stdout",
          "text": [
            "+----+------------------+--------+\n",
            "|Dest|     avg(DepDelay)|DestRank|\n",
            "+----+------------------+--------+\n",
            "| ACK|31.014634146341464|       1|\n",
            "| MQT|28.016008537886872|       2|\n",
            "| MCN| 26.07772511848341|       3|\n",
            "| ISO|23.394202898550724|       4|\n",
            "| PFN| 21.38535031847134|       5|\n",
            "| BMI|  20.7077239488117|       6|\n",
            "| ILG| 19.78635014836795|       7|\n",
            "| CWA|19.672103004291845|       8|\n",
            "| FAY|19.444307692307692|       9|\n",
            "| RDD| 19.21180030257186|      10|\n",
            "| CIC| 19.17642276422764|      11|\n",
            "| AGS|18.659873188405797|      12|\n",
            "| AVP|18.511413696435724|      13|\n",
            "| FLO| 18.23949579831933|      14|\n",
            "| EWR|18.181360811252862|      15|\n",
            "| CMI|18.010742496050554|      16|\n",
            "| GNV|17.919095477386936|      17|\n",
            "| DHN|17.629721362229102|      18|\n",
            "| CAE|17.497975708502025|      19|\n",
            "| LNK|17.441228379809388|      20|\n",
            "+----+------------------+--------+\n",
            "only showing top 20 rows\n",
            "\n"
          ]
        }
      ]
    },
    {
      "cell_type": "code",
      "metadata": {
        "id": "c1GKjXy5MPZN"
      },
      "source": [
        "data = data.join(dest_delay, on=['Dest'])"
      ],
      "execution_count": 35,
      "outputs": []
    },
    {
      "cell_type": "code",
      "metadata": {
        "id": "bo8F-g8yMTTh"
      },
      "source": [
        "data = data.drop(\"avg(DepDelay)\")"
      ],
      "execution_count": 36,
      "outputs": []
    },
    {
      "cell_type": "code",
      "metadata": {
        "id": "Hlbg3y-mMYjO"
      },
      "source": [
        "data = data.drop(\"Dest\")"
      ],
      "execution_count": 37,
      "outputs": []
    },
    {
      "cell_type": "code",
      "metadata": {
        "id": "rqIRscyUNl-p"
      },
      "source": [
        "data = data.withColumn(\"DayofMonth\",data.DayofMonth.cast('integer'))\n",
        "data = data.withColumn(\"Month\",data.Month.cast('integer'))"
      ],
      "execution_count": null,
      "outputs": []
    },
    {
      "cell_type": "code",
      "metadata": {
        "colab": {
          "base_uri": "https://localhost:8080/"
        },
        "id": "O4HaKoaPWY5x",
        "outputId": "990e8d44-1adb-478e-f353-5ee2cf172371"
      },
      "source": [
        "data.printSchema()"
      ],
      "execution_count": null,
      "outputs": [
        {
          "output_type": "stream",
          "name": "stdout",
          "text": [
            "root\n",
            " |-- Month: integer (nullable = true)\n",
            " |-- DayofMonth: integer (nullable = true)\n",
            " |-- DayOfWeek: integer (nullable = true)\n",
            " |-- DepTime: integer (nullable = true)\n",
            " |-- CRSDepTime: integer (nullable = true)\n",
            " |-- CRSArrTime: integer (nullable = true)\n",
            " |-- CRSElapsedTime: integer (nullable = true)\n",
            " |-- ArrDelay: integer (nullable = true)\n",
            " |-- DepDelay: integer (nullable = true)\n",
            " |-- Distance: integer (nullable = true)\n",
            " |-- TaxiOut: integer (nullable = true)\n",
            " |-- CarrierRank: integer (nullable = false)\n",
            " |-- OriginRank: integer (nullable = false)\n",
            " |-- DestRank: integer (nullable = false)\n",
            "\n"
          ]
        }
      ]
    },
    {
      "cell_type": "markdown",
      "metadata": {
        "id": "sTc_-2zXpQeg"
      },
      "source": [
        "Create a vector column for the features"
      ]
    },
    {
      "cell_type": "code",
      "metadata": {
        "id": "lXVWtpKdpPnX"
      },
      "source": [
        "from pyspark.ml.feature import VectorAssembler\n",
        "\n",
        "ignore = ['ArrDelay']\n",
        "assembler = VectorAssembler(\n",
        "    inputCols=[x for x in data.columns if x not in ignore],\n",
        "    outputCol='features')\n",
        "\n",
        "data = assembler.transform(data)"
      ],
      "execution_count": null,
      "outputs": []
    },
    {
      "cell_type": "code",
      "metadata": {
        "id": "qKDJb4FgDj5y"
      },
      "source": [
        "data_ml = data.select(['features', 'ArrDelay'])"
      ],
      "execution_count": null,
      "outputs": []
    },
    {
      "cell_type": "code",
      "metadata": {
        "colab": {
          "base_uri": "https://localhost:8080/"
        },
        "id": "4vOUPyH4DtBX",
        "outputId": "50322386-0706-4d4a-c3ce-5c7b634227f1"
      },
      "source": [
        "data_ml.show()"
      ],
      "execution_count": null,
      "outputs": [
        {
          "output_type": "stream",
          "name": "stdout",
          "text": [
            "+--------------------+--------+\n",
            "|            features|ArrDelay|\n",
            "+--------------------+--------+\n",
            "|[1.0,16.0,1.0,210...|     -17|\n",
            "|[1.0,17.0,2.0,150...|      72|\n",
            "|[1.0,17.0,2.0,210...|     -17|\n",
            "|[1.0,18.0,3.0,151...|       5|\n",
            "|[1.0,18.0,3.0,211...|     -19|\n",
            "|[1.0,19.0,4.0,145...|      -5|\n",
            "|[1.0,19.0,4.0,210...|     -19|\n",
            "|[1.0,20.0,5.0,145...|     -13|\n",
            "|[1.0,20.0,5.0,210...|     -23|\n",
            "|[1.0,21.0,6.0,153...|      20|\n",
            "|[1.0,22.0,7.0,151...|      11|\n",
            "|[1.0,22.0,7.0,211...|     -14|\n",
            "|[1.0,23.0,1.0,150...|      -7|\n",
            "|[1.0,23.0,1.0,210...|     -19|\n",
            "|[1.0,24.0,2.0,150...|      -1|\n",
            "|[1.0,24.0,2.0,212...|      -5|\n",
            "|[1.0,25.0,3.0,150...|      13|\n",
            "|[1.0,25.0,3.0,210...|      -2|\n",
            "|[1.0,26.0,4.0,145...|      -1|\n",
            "|[1.0,26.0,4.0,220...|      39|\n",
            "+--------------------+--------+\n",
            "only showing top 20 rows\n",
            "\n"
          ]
        }
      ]
    },
    {
      "cell_type": "markdown",
      "metadata": {
        "id": "xous1Ae41nfm"
      },
      "source": [
        "Trying PCA"
      ]
    },
    {
      "cell_type": "code",
      "metadata": {
        "id": "1qUA3zpqzj4C"
      },
      "source": [
        "data_pca = data.sample(0.05)"
      ],
      "execution_count": null,
      "outputs": []
    },
    {
      "cell_type": "code",
      "metadata": {
        "colab": {
          "base_uri": "https://localhost:8080/"
        },
        "id": "UrhcEXzHwpn7",
        "outputId": "e3112012-63f2-45f3-c0bb-69dbfd4f38d0"
      },
      "source": [
        "from pyspark.ml.feature import PCA\n",
        "pca = PCA(k=2, inputCol=\"features\")\n",
        "pca.setOutputCol(\"pca_features\")"
      ],
      "execution_count": null,
      "outputs": [
        {
          "output_type": "execute_result",
          "data": {
            "text/plain": [
              "PCA_af78a1fedf56"
            ]
          },
          "metadata": {},
          "execution_count": 30
        }
      ]
    },
    {
      "cell_type": "code",
      "metadata": {
        "id": "mwxVob4j6UrN"
      },
      "source": [
        "model = pca.fit(data_pca)"
      ],
      "execution_count": null,
      "outputs": []
    },
    {
      "cell_type": "code",
      "metadata": {
        "colab": {
          "base_uri": "https://localhost:8080/"
        },
        "id": "j4E_qDlH6Evs",
        "outputId": "2b36f0c2-4883-420d-838e-7b5c028f35c1"
      },
      "source": [
        "model.setOutputCol(\"output\")"
      ],
      "execution_count": null,
      "outputs": [
        {
          "output_type": "execute_result",
          "data": {
            "text/plain": [
              "PCAModel: uid=PCA_af78a1fedf56, k=2"
            ]
          },
          "metadata": {},
          "execution_count": 32
        }
      ]
    },
    {
      "cell_type": "code",
      "metadata": {
        "colab": {
          "base_uri": "https://localhost:8080/"
        },
        "id": "fOb4_S11yaIa",
        "outputId": "90304d47-2d4e-4ddc-e700-cee2de511369"
      },
      "source": [
        "model.explainedVariance"
      ],
      "execution_count": null,
      "outputs": [
        {
          "output_type": "execute_result",
          "data": {
            "text/plain": [
              "DenseVector([0.5887, 0.3323])"
            ]
          },
          "metadata": {},
          "execution_count": 34
        }
      ]
    },
    {
      "cell_type": "code",
      "metadata": {
        "id": "VoWm_7sh_lu3"
      },
      "source": [
        "df_pca = model.transform(data_pca)"
      ],
      "execution_count": null,
      "outputs": []
    },
    {
      "cell_type": "code",
      "metadata": {
        "colab": {
          "base_uri": "https://localhost:8080/"
        },
        "id": "YOTmQTErABrf",
        "outputId": "f4bc1f97-1789-4d75-b305-26804ba9c319"
      },
      "source": [
        "df_pca.show(6)"
      ],
      "execution_count": null,
      "outputs": [
        {
          "output_type": "stream",
          "name": "stdout",
          "text": [
            "+-----+----------+---------+-------+----------+----------+--------------+--------+--------+--------+-------+-----------+----------+--------+--------------------+--------------------+\n",
            "|Month|DayofMonth|DayOfWeek|DepTime|CRSDepTime|CRSArrTime|CRSElapsedTime|ArrDelay|DepDelay|Distance|TaxiOut|CarrierRank|OriginRank|DestRank|            features|              output|\n",
            "+-----+----------+---------+-------+----------+----------+--------------+--------+--------+--------+-------+-----------+----------+--------+--------------------+--------------------+\n",
            "|    1|        20|        5|   2109|      2110|      2242|            92|     -23|      -1|     506|      8|         12|       213|     124|[1.0,20.0,5.0,210...|[-3730.5225234778...|\n",
            "|    1|        27|        5|   2105|      2110|      2242|            92|     -24|      -5|     506|      8|         12|       213|     124|[1.0,27.0,5.0,210...|[-3728.1045990291...|\n",
            "|    1|        28|        6|   1454|      1500|      1632|            92|      -9|      -6|     506|     15|         12|       213|     124|[1.0,28.0,6.0,145...|[-2647.6477231653...|\n",
            "|    2|        15|        3|   2112|      2110|      2242|            92|     -17|       2|     506|      8|         12|       213|     124|[2.0,15.0,3.0,211...|[-3732.3359439340...|\n",
            "|    2|        22|        3|   1458|      1500|      1632|            92|     -10|      -2|     506|     13|         12|       213|     124|[2.0,22.0,3.0,145...|[-2650.0637723104...|\n",
            "|    2|         1|        3|   1455|      1500|      1632|            92|     -16|      -5|     506|      7|         12|       213|     124|[2.0,1.0,3.0,1455...|[-2648.2447519946...|\n",
            "+-----+----------+---------+-------+----------+----------+--------------+--------+--------+--------+-------+-----------+----------+--------+--------------------+--------------------+\n",
            "only showing top 6 rows\n",
            "\n"
          ]
        }
      ]
    },
    {
      "cell_type": "markdown",
      "metadata": {
        "id": "e89mNc1xCuN4"
      },
      "source": [
        "Machine Learning"
      ]
    },
    {
      "cell_type": "code",
      "metadata": {
        "id": "JKQcoz6MCxF_"
      },
      "source": [
        "#Split the data\n",
        "(training_data, test_data) = data_ml.randomSplit([0.8,0.2])"
      ],
      "execution_count": null,
      "outputs": []
    },
    {
      "cell_type": "code",
      "metadata": {
        "colab": {
          "base_uri": "https://localhost:8080/"
        },
        "id": "1eSpe8EfCxQL",
        "outputId": "f82c6bf5-9915-425d-b46c-ccea7f731f25"
      },
      "source": [
        "from pyspark.ml.regression import LinearRegression\n",
        "\n",
        "lr = LinearRegression(featuresCol = 'features', labelCol='ArrDelay', maxIter=10, regParam=0.3, elasticNetParam=0.8)\n",
        "lr_model = lr.fit(training_data)\n",
        "print(\"Coefficients: \" + str(lr_model.coefficients))\n",
        "print(\"Intercept: \" + str(lr_model.intercept))"
      ],
      "execution_count": null,
      "outputs": [
        {
          "output_type": "stream",
          "name": "stdout",
          "text": [
            "Coefficients: [0.0,0.0,0.0,0.0,0.0,-0.00010826536196192496,-0.022932754944908436,0.9773942139861784,0.0,0.8465517501716281,0.0,0.0254627745125315,0.002901253777727773]\n",
            "Intercept: -14.942312862140783\n"
          ]
        }
      ]
    },
    {
      "cell_type": "code",
      "metadata": {
        "colab": {
          "base_uri": "https://localhost:8080/"
        },
        "id": "H5ZVv3m5KRNU",
        "outputId": "72ceef17-be11-4bbb-9e1d-51e4b2234c6f"
      },
      "source": [
        "trainingSummary = lr_model.summary\n",
        "print(\"RMSE: %f\" % trainingSummary.rootMeanSquaredError)\n",
        "print(\"r2: %f\" % trainingSummary.r2)"
      ],
      "execution_count": null,
      "outputs": [
        {
          "output_type": "stream",
          "name": "stdout",
          "text": [
            "RMSE: 10.904902\n",
            "r2: 0.911064\n"
          ]
        }
      ]
    },
    {
      "cell_type": "code",
      "metadata": {
        "colab": {
          "base_uri": "https://localhost:8080/"
        },
        "id": "rWt3AqmiKm60",
        "outputId": "933a53f7-056a-4c75-c24b-479b4577483a"
      },
      "source": [
        "lr_predictions = lr_model.transform(test_data)\n",
        "#lr_predictions.select(\"prediction\",\"ArrDelay\",\"features\").show(5)\n",
        "\n",
        "from pyspark.ml.evaluation import RegressionEvaluator\n",
        "\n",
        "lr_evaluator = RegressionEvaluator(predictionCol=\"prediction\", \\\n",
        "                 labelCol=\"ArrDelay\",metricName=\"r2\")\n",
        "print(\"R Squared (R2) on test data = %g\" % lr_evaluator.evaluate(lr_predictions))"
      ],
      "execution_count": null,
      "outputs": [
        {
          "output_type": "stream",
          "name": "stdout",
          "text": [
            "R Squared (R2) on test data = 0.906907\n"
          ]
        }
      ]
    },
    {
      "cell_type": "code",
      "metadata": {
        "colab": {
          "base_uri": "https://localhost:8080/",
          "height": 329
        },
        "id": "G2V211G-MOGR",
        "outputId": "8d7fec59-8b0a-4d25-fa33-88e31127d0b4"
      },
      "source": [
        "lr_evaluator_rmse = RegressionEvaluator(predictionCol=\"prediction\", \\\n",
        "                 labelCol=\"ArrDelay\",metricName=\"rmse\")\n",
        "print(\"RMSE: %f\" % lr_evaluator_rmse.evaluate(lr_predictions))"
      ],
      "execution_count": null,
      "outputs": [
        {
          "output_type": "error",
          "ename": "Py4JError",
          "evalue": "ignored",
          "traceback": [
            "\u001b[0;31m---------------------------------------------------------------------------\u001b[0m",
            "\u001b[0;31mPy4JError\u001b[0m                                 Traceback (most recent call last)",
            "\u001b[0;32m<ipython-input-56-30c6becf9f6c>\u001b[0m in \u001b[0;36m<module>\u001b[0;34m()\u001b[0m\n\u001b[0;32m----> 1\u001b[0;31m \u001b[0mlr_evaluator_rmse\u001b[0m \u001b[0;34m=\u001b[0m \u001b[0mRegressionEvaluator\u001b[0m\u001b[0;34m(\u001b[0m\u001b[0mpredictionCol\u001b[0m\u001b[0;34m=\u001b[0m\u001b[0;34m\"prediction\"\u001b[0m\u001b[0;34m,\u001b[0m                  \u001b[0mlabelCol\u001b[0m\u001b[0;34m=\u001b[0m\u001b[0;34m\"ArrDelay\"\u001b[0m\u001b[0;34m,\u001b[0m\u001b[0mmetricName\u001b[0m\u001b[0;34m=\u001b[0m\u001b[0;34m\"rmse\"\u001b[0m\u001b[0;34m)\u001b[0m\u001b[0;34m\u001b[0m\u001b[0;34m\u001b[0m\u001b[0m\n\u001b[0m\u001b[1;32m      2\u001b[0m \u001b[0mprint\u001b[0m\u001b[0;34m(\u001b[0m\u001b[0;34m\"RMSE: %f\"\u001b[0m \u001b[0;34m%\u001b[0m \u001b[0mlr_evaluator_rmse\u001b[0m\u001b[0;34m.\u001b[0m\u001b[0mevaluate\u001b[0m\u001b[0;34m(\u001b[0m\u001b[0mlr_predictions\u001b[0m\u001b[0;34m)\u001b[0m\u001b[0;34m)\u001b[0m\u001b[0;34m\u001b[0m\u001b[0;34m\u001b[0m\u001b[0m\n",
            "\u001b[0;32m/usr/local/lib/python3.7/dist-packages/pyspark/__init__.py\u001b[0m in \u001b[0;36mwrapper\u001b[0;34m(self, *args, **kwargs)\u001b[0m\n\u001b[1;32m    112\u001b[0m             \u001b[0;32mraise\u001b[0m \u001b[0mTypeError\u001b[0m\u001b[0;34m(\u001b[0m\u001b[0;34m\"Method %s forces keyword arguments.\"\u001b[0m \u001b[0;34m%\u001b[0m \u001b[0mfunc\u001b[0m\u001b[0;34m.\u001b[0m\u001b[0m__name__\u001b[0m\u001b[0;34m)\u001b[0m\u001b[0;34m\u001b[0m\u001b[0;34m\u001b[0m\u001b[0m\n\u001b[1;32m    113\u001b[0m         \u001b[0mself\u001b[0m\u001b[0;34m.\u001b[0m\u001b[0m_input_kwargs\u001b[0m \u001b[0;34m=\u001b[0m \u001b[0mkwargs\u001b[0m\u001b[0;34m\u001b[0m\u001b[0;34m\u001b[0m\u001b[0m\n\u001b[0;32m--> 114\u001b[0;31m         \u001b[0;32mreturn\u001b[0m \u001b[0mfunc\u001b[0m\u001b[0;34m(\u001b[0m\u001b[0mself\u001b[0m\u001b[0;34m,\u001b[0m \u001b[0;34m**\u001b[0m\u001b[0mkwargs\u001b[0m\u001b[0;34m)\u001b[0m\u001b[0;34m\u001b[0m\u001b[0;34m\u001b[0m\u001b[0m\n\u001b[0m\u001b[1;32m    115\u001b[0m     \u001b[0;32mreturn\u001b[0m \u001b[0mwrapper\u001b[0m\u001b[0;34m\u001b[0m\u001b[0;34m\u001b[0m\u001b[0m\n\u001b[1;32m    116\u001b[0m \u001b[0;34m\u001b[0m\u001b[0m\n",
            "\u001b[0;32m/usr/local/lib/python3.7/dist-packages/pyspark/ml/evaluation.py\u001b[0m in \u001b[0;36m__init__\u001b[0;34m(self, predictionCol, labelCol, metricName, weightCol, throughOrigin)\u001b[0m\n\u001b[1;32m    313\u001b[0m         \u001b[0msuper\u001b[0m\u001b[0;34m(\u001b[0m\u001b[0mRegressionEvaluator\u001b[0m\u001b[0;34m,\u001b[0m \u001b[0mself\u001b[0m\u001b[0;34m)\u001b[0m\u001b[0;34m.\u001b[0m\u001b[0m__init__\u001b[0m\u001b[0;34m(\u001b[0m\u001b[0;34m)\u001b[0m\u001b[0;34m\u001b[0m\u001b[0;34m\u001b[0m\u001b[0m\n\u001b[1;32m    314\u001b[0m         self._java_obj = self._new_java_obj(\n\u001b[0;32m--> 315\u001b[0;31m             \"org.apache.spark.ml.evaluation.RegressionEvaluator\", self.uid)\n\u001b[0m\u001b[1;32m    316\u001b[0m         \u001b[0mself\u001b[0m\u001b[0;34m.\u001b[0m\u001b[0m_setDefault\u001b[0m\u001b[0;34m(\u001b[0m\u001b[0mmetricName\u001b[0m\u001b[0;34m=\u001b[0m\u001b[0;34m\"rmse\"\u001b[0m\u001b[0;34m,\u001b[0m \u001b[0mthroughOrigin\u001b[0m\u001b[0;34m=\u001b[0m\u001b[0;32mFalse\u001b[0m\u001b[0;34m)\u001b[0m\u001b[0;34m\u001b[0m\u001b[0;34m\u001b[0m\u001b[0m\n\u001b[1;32m    317\u001b[0m         \u001b[0mkwargs\u001b[0m \u001b[0;34m=\u001b[0m \u001b[0mself\u001b[0m\u001b[0;34m.\u001b[0m\u001b[0m_input_kwargs\u001b[0m\u001b[0;34m\u001b[0m\u001b[0;34m\u001b[0m\u001b[0m\n",
            "\u001b[0;32m/usr/local/lib/python3.7/dist-packages/pyspark/ml/wrapper.py\u001b[0m in \u001b[0;36m_new_java_obj\u001b[0;34m(java_class, *args)\u001b[0m\n\u001b[1;32m     62\u001b[0m         \u001b[0mjava_obj\u001b[0m \u001b[0;34m=\u001b[0m \u001b[0m_jvm\u001b[0m\u001b[0;34m(\u001b[0m\u001b[0;34m)\u001b[0m\u001b[0;34m\u001b[0m\u001b[0;34m\u001b[0m\u001b[0m\n\u001b[1;32m     63\u001b[0m         \u001b[0;32mfor\u001b[0m \u001b[0mname\u001b[0m \u001b[0;32min\u001b[0m \u001b[0mjava_class\u001b[0m\u001b[0;34m.\u001b[0m\u001b[0msplit\u001b[0m\u001b[0;34m(\u001b[0m\u001b[0;34m\".\"\u001b[0m\u001b[0;34m)\u001b[0m\u001b[0;34m:\u001b[0m\u001b[0;34m\u001b[0m\u001b[0;34m\u001b[0m\u001b[0m\n\u001b[0;32m---> 64\u001b[0;31m             \u001b[0mjava_obj\u001b[0m \u001b[0;34m=\u001b[0m \u001b[0mgetattr\u001b[0m\u001b[0;34m(\u001b[0m\u001b[0mjava_obj\u001b[0m\u001b[0;34m,\u001b[0m \u001b[0mname\u001b[0m\u001b[0;34m)\u001b[0m\u001b[0;34m\u001b[0m\u001b[0;34m\u001b[0m\u001b[0m\n\u001b[0m\u001b[1;32m     65\u001b[0m         \u001b[0mjava_args\u001b[0m \u001b[0;34m=\u001b[0m \u001b[0;34m[\u001b[0m\u001b[0m_py2java\u001b[0m\u001b[0;34m(\u001b[0m\u001b[0msc\u001b[0m\u001b[0;34m,\u001b[0m \u001b[0marg\u001b[0m\u001b[0;34m)\u001b[0m \u001b[0;32mfor\u001b[0m \u001b[0marg\u001b[0m \u001b[0;32min\u001b[0m \u001b[0margs\u001b[0m\u001b[0;34m]\u001b[0m\u001b[0;34m\u001b[0m\u001b[0;34m\u001b[0m\u001b[0m\n\u001b[1;32m     66\u001b[0m         \u001b[0;32mreturn\u001b[0m \u001b[0mjava_obj\u001b[0m\u001b[0;34m(\u001b[0m\u001b[0;34m*\u001b[0m\u001b[0mjava_args\u001b[0m\u001b[0;34m)\u001b[0m\u001b[0;34m\u001b[0m\u001b[0;34m\u001b[0m\u001b[0m\n",
            "\u001b[0;32m/usr/local/lib/python3.7/dist-packages/py4j/java_gateway.py\u001b[0m in \u001b[0;36m__getattr__\u001b[0;34m(self, name)\u001b[0m\n\u001b[1;32m   1708\u001b[0m             message = compute_exception_message(\n\u001b[1;32m   1709\u001b[0m                 \"{0} does not exist in the JVM\".format(name), error_message)\n\u001b[0;32m-> 1710\u001b[0;31m             \u001b[0;32mraise\u001b[0m \u001b[0mPy4JError\u001b[0m\u001b[0;34m(\u001b[0m\u001b[0mmessage\u001b[0m\u001b[0;34m)\u001b[0m\u001b[0;34m\u001b[0m\u001b[0;34m\u001b[0m\u001b[0m\n\u001b[0m\u001b[1;32m   1711\u001b[0m \u001b[0;34m\u001b[0m\u001b[0m\n\u001b[1;32m   1712\u001b[0m \u001b[0;34m\u001b[0m\u001b[0m\n",
            "\u001b[0;31mPy4JError\u001b[0m: org does not exist in the JVM"
          ]
        }
      ]
    },
    {
      "cell_type": "code",
      "metadata": {
        "id": "khdajZ_-6eF9"
      },
      "source": [
        ""
      ],
      "execution_count": null,
      "outputs": []
    },
    {
      "cell_type": "code",
      "metadata": {
        "id": "V2aNtD8J6eIQ"
      },
      "source": [
        "import pandas as pd"
      ],
      "execution_count": null,
      "outputs": []
    },
    {
      "cell_type": "code",
      "metadata": {
        "id": "OC5Yw5Zj6gti"
      },
      "source": [
        "path = \"/content/drive/MyDrive/Colab Notebooks/datasets/2006.csv\"\n",
        "df = pd.read_csv(path)"
      ],
      "execution_count": null,
      "outputs": []
    },
    {
      "cell_type": "code",
      "metadata": {
        "colab": {
          "base_uri": "https://localhost:8080/"
        },
        "id": "qtWPyrli6pR4",
        "outputId": "e8606307-0559-4556-f55e-c77397f1dbae"
      },
      "source": [
        "df.shape"
      ],
      "execution_count": null,
      "outputs": [
        {
          "output_type": "execute_result",
          "data": {
            "text/plain": [
              "(7141922, 29)"
            ]
          },
          "metadata": {},
          "execution_count": 23
        }
      ]
    },
    {
      "cell_type": "code",
      "metadata": {
        "colab": {
          "base_uri": "https://localhost:8080/",
          "height": 226
        },
        "id": "u_wxNtlN6qwZ",
        "outputId": "68933dc4-dddb-4a20-b645-a7344bace454"
      },
      "source": [
        "df.head()"
      ],
      "execution_count": null,
      "outputs": [
        {
          "output_type": "execute_result",
          "data": {
            "text/html": [
              "<div>\n",
              "<style scoped>\n",
              "    .dataframe tbody tr th:only-of-type {\n",
              "        vertical-align: middle;\n",
              "    }\n",
              "\n",
              "    .dataframe tbody tr th {\n",
              "        vertical-align: top;\n",
              "    }\n",
              "\n",
              "    .dataframe thead th {\n",
              "        text-align: right;\n",
              "    }\n",
              "</style>\n",
              "<table border=\"1\" class=\"dataframe\">\n",
              "  <thead>\n",
              "    <tr style=\"text-align: right;\">\n",
              "      <th></th>\n",
              "      <th>Year</th>\n",
              "      <th>Month</th>\n",
              "      <th>DayofMonth</th>\n",
              "      <th>DayOfWeek</th>\n",
              "      <th>DepTime</th>\n",
              "      <th>CRSDepTime</th>\n",
              "      <th>ArrTime</th>\n",
              "      <th>CRSArrTime</th>\n",
              "      <th>UniqueCarrier</th>\n",
              "      <th>FlightNum</th>\n",
              "      <th>TailNum</th>\n",
              "      <th>ActualElapsedTime</th>\n",
              "      <th>CRSElapsedTime</th>\n",
              "      <th>AirTime</th>\n",
              "      <th>ArrDelay</th>\n",
              "      <th>DepDelay</th>\n",
              "      <th>Origin</th>\n",
              "      <th>Dest</th>\n",
              "      <th>Distance</th>\n",
              "      <th>TaxiIn</th>\n",
              "      <th>TaxiOut</th>\n",
              "      <th>Cancelled</th>\n",
              "      <th>CancellationCode</th>\n",
              "      <th>Diverted</th>\n",
              "      <th>CarrierDelay</th>\n",
              "      <th>WeatherDelay</th>\n",
              "      <th>NASDelay</th>\n",
              "      <th>SecurityDelay</th>\n",
              "      <th>LateAircraftDelay</th>\n",
              "    </tr>\n",
              "  </thead>\n",
              "  <tbody>\n",
              "    <tr>\n",
              "      <th>0</th>\n",
              "      <td>2006</td>\n",
              "      <td>1</td>\n",
              "      <td>11</td>\n",
              "      <td>3</td>\n",
              "      <td>743.0</td>\n",
              "      <td>745</td>\n",
              "      <td>1024.0</td>\n",
              "      <td>1018</td>\n",
              "      <td>US</td>\n",
              "      <td>343</td>\n",
              "      <td>N657AW</td>\n",
              "      <td>281.0</td>\n",
              "      <td>273.0</td>\n",
              "      <td>223.0</td>\n",
              "      <td>6.0</td>\n",
              "      <td>-2.0</td>\n",
              "      <td>ATL</td>\n",
              "      <td>PHX</td>\n",
              "      <td>1587</td>\n",
              "      <td>45</td>\n",
              "      <td>13</td>\n",
              "      <td>0</td>\n",
              "      <td>NaN</td>\n",
              "      <td>0</td>\n",
              "      <td>0</td>\n",
              "      <td>0</td>\n",
              "      <td>0</td>\n",
              "      <td>0</td>\n",
              "      <td>0</td>\n",
              "    </tr>\n",
              "    <tr>\n",
              "      <th>1</th>\n",
              "      <td>2006</td>\n",
              "      <td>1</td>\n",
              "      <td>11</td>\n",
              "      <td>3</td>\n",
              "      <td>1053.0</td>\n",
              "      <td>1053</td>\n",
              "      <td>1313.0</td>\n",
              "      <td>1318</td>\n",
              "      <td>US</td>\n",
              "      <td>613</td>\n",
              "      <td>N834AW</td>\n",
              "      <td>260.0</td>\n",
              "      <td>265.0</td>\n",
              "      <td>214.0</td>\n",
              "      <td>-5.0</td>\n",
              "      <td>0.0</td>\n",
              "      <td>ATL</td>\n",
              "      <td>PHX</td>\n",
              "      <td>1587</td>\n",
              "      <td>27</td>\n",
              "      <td>19</td>\n",
              "      <td>0</td>\n",
              "      <td>NaN</td>\n",
              "      <td>0</td>\n",
              "      <td>0</td>\n",
              "      <td>0</td>\n",
              "      <td>0</td>\n",
              "      <td>0</td>\n",
              "      <td>0</td>\n",
              "    </tr>\n",
              "    <tr>\n",
              "      <th>2</th>\n",
              "      <td>2006</td>\n",
              "      <td>1</td>\n",
              "      <td>11</td>\n",
              "      <td>3</td>\n",
              "      <td>1915.0</td>\n",
              "      <td>1915</td>\n",
              "      <td>2110.0</td>\n",
              "      <td>2133</td>\n",
              "      <td>US</td>\n",
              "      <td>617</td>\n",
              "      <td>N605AW</td>\n",
              "      <td>235.0</td>\n",
              "      <td>258.0</td>\n",
              "      <td>220.0</td>\n",
              "      <td>-23.0</td>\n",
              "      <td>0.0</td>\n",
              "      <td>ATL</td>\n",
              "      <td>PHX</td>\n",
              "      <td>1587</td>\n",
              "      <td>4</td>\n",
              "      <td>11</td>\n",
              "      <td>0</td>\n",
              "      <td>NaN</td>\n",
              "      <td>0</td>\n",
              "      <td>0</td>\n",
              "      <td>0</td>\n",
              "      <td>0</td>\n",
              "      <td>0</td>\n",
              "      <td>0</td>\n",
              "    </tr>\n",
              "    <tr>\n",
              "      <th>3</th>\n",
              "      <td>2006</td>\n",
              "      <td>1</td>\n",
              "      <td>11</td>\n",
              "      <td>3</td>\n",
              "      <td>1753.0</td>\n",
              "      <td>1755</td>\n",
              "      <td>1925.0</td>\n",
              "      <td>1933</td>\n",
              "      <td>US</td>\n",
              "      <td>300</td>\n",
              "      <td>N312AW</td>\n",
              "      <td>152.0</td>\n",
              "      <td>158.0</td>\n",
              "      <td>126.0</td>\n",
              "      <td>-8.0</td>\n",
              "      <td>-2.0</td>\n",
              "      <td>AUS</td>\n",
              "      <td>PHX</td>\n",
              "      <td>872</td>\n",
              "      <td>16</td>\n",
              "      <td>10</td>\n",
              "      <td>0</td>\n",
              "      <td>NaN</td>\n",
              "      <td>0</td>\n",
              "      <td>0</td>\n",
              "      <td>0</td>\n",
              "      <td>0</td>\n",
              "      <td>0</td>\n",
              "      <td>0</td>\n",
              "    </tr>\n",
              "    <tr>\n",
              "      <th>4</th>\n",
              "      <td>2006</td>\n",
              "      <td>1</td>\n",
              "      <td>11</td>\n",
              "      <td>3</td>\n",
              "      <td>824.0</td>\n",
              "      <td>832</td>\n",
              "      <td>1015.0</td>\n",
              "      <td>1015</td>\n",
              "      <td>US</td>\n",
              "      <td>765</td>\n",
              "      <td>N309AW</td>\n",
              "      <td>171.0</td>\n",
              "      <td>163.0</td>\n",
              "      <td>132.0</td>\n",
              "      <td>0.0</td>\n",
              "      <td>-8.0</td>\n",
              "      <td>AUS</td>\n",
              "      <td>PHX</td>\n",
              "      <td>872</td>\n",
              "      <td>27</td>\n",
              "      <td>12</td>\n",
              "      <td>0</td>\n",
              "      <td>NaN</td>\n",
              "      <td>0</td>\n",
              "      <td>0</td>\n",
              "      <td>0</td>\n",
              "      <td>0</td>\n",
              "      <td>0</td>\n",
              "      <td>0</td>\n",
              "    </tr>\n",
              "  </tbody>\n",
              "</table>\n",
              "</div>"
            ],
            "text/plain": [
              "   Year  Month  DayofMonth  ...  NASDelay  SecurityDelay  LateAircraftDelay\n",
              "0  2006      1          11  ...         0              0                  0\n",
              "1  2006      1          11  ...         0              0                  0\n",
              "2  2006      1          11  ...         0              0                  0\n",
              "3  2006      1          11  ...         0              0                  0\n",
              "4  2006      1          11  ...         0              0                  0\n",
              "\n",
              "[5 rows x 29 columns]"
            ]
          },
          "metadata": {},
          "execution_count": 25
        }
      ]
    },
    {
      "cell_type": "code",
      "metadata": {
        "id": "q-p0SzUf82mj"
      },
      "source": [
        "df = df.drop(columns=[\"ArrTime\",\"ActualElapsedTime\", \"AirTime\", \"TaxiIn\", \"Diverted\", \"CarrierDelay\", \"WeatherDelay\", \"NASDelay\", \"SecurityDelay\",\"LateAircraftDelay\", \"CancellationCode\", \"FlightNum\", \"TailNum\", \"Year\"], axis=1)"
      ],
      "execution_count": null,
      "outputs": []
    },
    {
      "cell_type": "code",
      "metadata": {
        "id": "plHXFTS89TjE"
      },
      "source": [
        "df = df.replace(to_replace='NA', value=None)\n",
        "df = df.dropna()"
      ],
      "execution_count": null,
      "outputs": []
    },
    {
      "cell_type": "code",
      "metadata": {
        "id": "-KPQ4T83-Pws"
      },
      "source": [
        "df = df[df[\"Cancelled\"] != 1]"
      ],
      "execution_count": null,
      "outputs": []
    },
    {
      "cell_type": "code",
      "metadata": {
        "id": "JQtOUy4d-mHn"
      },
      "source": [
        "df = df.drop(columns=[\"Cancelled\"], axis=1)"
      ],
      "execution_count": null,
      "outputs": []
    },
    {
      "cell_type": "code",
      "metadata": {
        "colab": {
          "base_uri": "https://localhost:8080/",
          "height": 206
        },
        "id": "O7mr86tD-tyW",
        "outputId": "6f6f2ca7-d779-4fed-f8a3-d43d8c3f73b3"
      },
      "source": [
        "df.head()"
      ],
      "execution_count": null,
      "outputs": [
        {
          "output_type": "execute_result",
          "data": {
            "text/html": [
              "<div>\n",
              "<style scoped>\n",
              "    .dataframe tbody tr th:only-of-type {\n",
              "        vertical-align: middle;\n",
              "    }\n",
              "\n",
              "    .dataframe tbody tr th {\n",
              "        vertical-align: top;\n",
              "    }\n",
              "\n",
              "    .dataframe thead th {\n",
              "        text-align: right;\n",
              "    }\n",
              "</style>\n",
              "<table border=\"1\" class=\"dataframe\">\n",
              "  <thead>\n",
              "    <tr style=\"text-align: right;\">\n",
              "      <th></th>\n",
              "      <th>Month</th>\n",
              "      <th>DayofMonth</th>\n",
              "      <th>DayOfWeek</th>\n",
              "      <th>DepTime</th>\n",
              "      <th>CRSDepTime</th>\n",
              "      <th>CRSArrTime</th>\n",
              "      <th>UniqueCarrier</th>\n",
              "      <th>CRSElapsedTime</th>\n",
              "      <th>ArrDelay</th>\n",
              "      <th>DepDelay</th>\n",
              "      <th>Origin</th>\n",
              "      <th>Dest</th>\n",
              "      <th>Distance</th>\n",
              "      <th>TaxiOut</th>\n",
              "    </tr>\n",
              "  </thead>\n",
              "  <tbody>\n",
              "    <tr>\n",
              "      <th>0</th>\n",
              "      <td>1</td>\n",
              "      <td>11</td>\n",
              "      <td>3</td>\n",
              "      <td>743.0</td>\n",
              "      <td>745</td>\n",
              "      <td>1018</td>\n",
              "      <td>US</td>\n",
              "      <td>273.0</td>\n",
              "      <td>6.0</td>\n",
              "      <td>-2.0</td>\n",
              "      <td>ATL</td>\n",
              "      <td>PHX</td>\n",
              "      <td>1587</td>\n",
              "      <td>13</td>\n",
              "    </tr>\n",
              "    <tr>\n",
              "      <th>1</th>\n",
              "      <td>1</td>\n",
              "      <td>11</td>\n",
              "      <td>3</td>\n",
              "      <td>1053.0</td>\n",
              "      <td>1053</td>\n",
              "      <td>1318</td>\n",
              "      <td>US</td>\n",
              "      <td>265.0</td>\n",
              "      <td>-5.0</td>\n",
              "      <td>0.0</td>\n",
              "      <td>ATL</td>\n",
              "      <td>PHX</td>\n",
              "      <td>1587</td>\n",
              "      <td>19</td>\n",
              "    </tr>\n",
              "    <tr>\n",
              "      <th>2</th>\n",
              "      <td>1</td>\n",
              "      <td>11</td>\n",
              "      <td>3</td>\n",
              "      <td>1915.0</td>\n",
              "      <td>1915</td>\n",
              "      <td>2133</td>\n",
              "      <td>US</td>\n",
              "      <td>258.0</td>\n",
              "      <td>-23.0</td>\n",
              "      <td>0.0</td>\n",
              "      <td>ATL</td>\n",
              "      <td>PHX</td>\n",
              "      <td>1587</td>\n",
              "      <td>11</td>\n",
              "    </tr>\n",
              "    <tr>\n",
              "      <th>3</th>\n",
              "      <td>1</td>\n",
              "      <td>11</td>\n",
              "      <td>3</td>\n",
              "      <td>1753.0</td>\n",
              "      <td>1755</td>\n",
              "      <td>1933</td>\n",
              "      <td>US</td>\n",
              "      <td>158.0</td>\n",
              "      <td>-8.0</td>\n",
              "      <td>-2.0</td>\n",
              "      <td>AUS</td>\n",
              "      <td>PHX</td>\n",
              "      <td>872</td>\n",
              "      <td>10</td>\n",
              "    </tr>\n",
              "    <tr>\n",
              "      <th>4</th>\n",
              "      <td>1</td>\n",
              "      <td>11</td>\n",
              "      <td>3</td>\n",
              "      <td>824.0</td>\n",
              "      <td>832</td>\n",
              "      <td>1015</td>\n",
              "      <td>US</td>\n",
              "      <td>163.0</td>\n",
              "      <td>0.0</td>\n",
              "      <td>-8.0</td>\n",
              "      <td>AUS</td>\n",
              "      <td>PHX</td>\n",
              "      <td>872</td>\n",
              "      <td>12</td>\n",
              "    </tr>\n",
              "  </tbody>\n",
              "</table>\n",
              "</div>"
            ],
            "text/plain": [
              "   Month  DayofMonth  DayOfWeek  DepTime  ...  Origin  Dest Distance  TaxiOut\n",
              "0      1          11          3    743.0  ...     ATL   PHX     1587       13\n",
              "1      1          11          3   1053.0  ...     ATL   PHX     1587       19\n",
              "2      1          11          3   1915.0  ...     ATL   PHX     1587       11\n",
              "3      1          11          3   1753.0  ...     AUS   PHX      872       10\n",
              "4      1          11          3    824.0  ...     AUS   PHX      872       12\n",
              "\n",
              "[5 rows x 14 columns]"
            ]
          },
          "metadata": {},
          "execution_count": 12
        }
      ]
    },
    {
      "cell_type": "code",
      "metadata": {
        "id": "-CXPUEa5-xNu"
      },
      "source": [
        "df2 = df.drop(columns=[\"Month\",\t\"DayofMonth\",\t\"DayOfWeek\", \"DepTime\",\t\"CRSDepTime\",\t\"CRSArrTime\",\t\"UniqueCarrier\", \"CRSElapsedTime\", \"Origin\", \"Dest\", \"Distance\", \"TaxiOut\"])"
      ],
      "execution_count": null,
      "outputs": []
    },
    {
      "cell_type": "code",
      "metadata": {
        "colab": {
          "base_uri": "https://localhost:8080/",
          "height": 206
        },
        "id": "gb9zUMLP_GdT",
        "outputId": "d7aec87f-f149-4ad0-b77d-69595e7b54c9"
      },
      "source": [
        "df2.head()"
      ],
      "execution_count": null,
      "outputs": [
        {
          "output_type": "execute_result",
          "data": {
            "text/html": [
              "<div>\n",
              "<style scoped>\n",
              "    .dataframe tbody tr th:only-of-type {\n",
              "        vertical-align: middle;\n",
              "    }\n",
              "\n",
              "    .dataframe tbody tr th {\n",
              "        vertical-align: top;\n",
              "    }\n",
              "\n",
              "    .dataframe thead th {\n",
              "        text-align: right;\n",
              "    }\n",
              "</style>\n",
              "<table border=\"1\" class=\"dataframe\">\n",
              "  <thead>\n",
              "    <tr style=\"text-align: right;\">\n",
              "      <th></th>\n",
              "      <th>ArrDelay</th>\n",
              "      <th>DepDelay</th>\n",
              "    </tr>\n",
              "  </thead>\n",
              "  <tbody>\n",
              "    <tr>\n",
              "      <th>0</th>\n",
              "      <td>6.0</td>\n",
              "      <td>-2.0</td>\n",
              "    </tr>\n",
              "    <tr>\n",
              "      <th>1</th>\n",
              "      <td>-5.0</td>\n",
              "      <td>0.0</td>\n",
              "    </tr>\n",
              "    <tr>\n",
              "      <th>2</th>\n",
              "      <td>-23.0</td>\n",
              "      <td>0.0</td>\n",
              "    </tr>\n",
              "    <tr>\n",
              "      <th>3</th>\n",
              "      <td>-8.0</td>\n",
              "      <td>-2.0</td>\n",
              "    </tr>\n",
              "    <tr>\n",
              "      <th>4</th>\n",
              "      <td>0.0</td>\n",
              "      <td>-8.0</td>\n",
              "    </tr>\n",
              "  </tbody>\n",
              "</table>\n",
              "</div>"
            ],
            "text/plain": [
              "   ArrDelay  DepDelay\n",
              "0       6.0      -2.0\n",
              "1      -5.0       0.0\n",
              "2     -23.0       0.0\n",
              "3      -8.0      -2.0\n",
              "4       0.0      -8.0"
            ]
          },
          "metadata": {},
          "execution_count": 14
        }
      ]
    },
    {
      "cell_type": "code",
      "metadata": {
        "colab": {
          "base_uri": "https://localhost:8080/"
        },
        "id": "X26qlP-5_So7",
        "outputId": "05850d77-15a7-43ff-be87-d0622acf89cb"
      },
      "source": [
        "df2.shape"
      ],
      "execution_count": null,
      "outputs": [
        {
          "output_type": "execute_result",
          "data": {
            "text/plain": [
              "(7003802, 2)"
            ]
          },
          "metadata": {},
          "execution_count": 18
        }
      ]
    },
    {
      "cell_type": "code",
      "metadata": {
        "id": "jrbqQYlQ6uxr"
      },
      "source": [
        "import seaborn as sns\n",
        "import scipy as sp\n",
        "from scipy.stats import chi2\n",
        "from sklearn.covariance import MinCovDet\n",
        "import numpy as np"
      ],
      "execution_count": null,
      "outputs": []
    },
    {
      "cell_type": "code",
      "metadata": {
        "colab": {
          "base_uri": "https://localhost:8080/",
          "height": 279
        },
        "id": "jY9CTqOQ60YN",
        "outputId": "dbcbe4e6-f9d0-4d9b-916b-1f10134bd344"
      },
      "source": [
        "ax = sns.scatterplot(x=\"DepDelay\", y=\"ArrDelay\", data=df2)"
      ],
      "execution_count": null,
      "outputs": [
        {
          "output_type": "display_data",
          "data": {
            "image/png": "[encoded data removed]",
            "text/plain": [
              "<Figure size 432x288 with 1 Axes>"
            ]
          },
          "metadata": {
            "needs_background": "light"
          }
        }
      ]
    },
    {
      "cell_type": "code",
      "metadata": {
        "id": "iLKA0Jl169cX"
      },
      "source": [
        "#Mahalonibis Distance\n",
        "\n",
        "def mahalanobis_method(df):\n",
        "    #M-Distance\n",
        "    x_minus_mu = df - np.mean(df)\n",
        "    cov = np.cov(df.values.T)                           #Covariance\n",
        "    inv_covmat = sp.linalg.inv(cov)                     #Inverse covariance\n",
        "    left_term = np.dot(x_minus_mu, inv_covmat) \n",
        "    mahal = np.dot(left_term, x_minus_mu.T)\n",
        "    md = np.sqrt(mahal.diagonal())\n",
        "    \n",
        "    #Flag as outlier\n",
        "    outlier = []\n",
        "    #Cut-off point\n",
        "    C = np.sqrt(chi2.ppf((1-0.001), df=df.shape[1]))    #degrees of freedom = number of variables\n",
        "    for index, value in enumerate(md):\n",
        "        if value > C:\n",
        "            outlier.append(index)\n",
        "        else:\n",
        "            continue\n",
        "    return outlier, md"
      ],
      "execution_count": null,
      "outputs": []
    },
    {
      "cell_type": "code",
      "metadata": {
        "colab": {
          "base_uri": "https://localhost:8080/",
          "height": 322
        },
        "id": "U9mYiTpZ7ern",
        "outputId": "0ed25f1a-bb22-4ce7-aa7a-71ad990c4379"
      },
      "source": [
        "outliers_mahal, md = mahalanobis_method(df2)"
      ],
      "execution_count": null,
      "outputs": [
        {
          "output_type": "error",
          "ename": "MemoryError",
          "evalue": "ignored",
          "traceback": [
            "\u001b[0;31m---------------------------------------------------------------------------\u001b[0m",
            "\u001b[0;31mMemoryError\u001b[0m                               Traceback (most recent call last)",
            "\u001b[0;32m<ipython-input-19-ab836d9f9b0c>\u001b[0m in \u001b[0;36m<module>\u001b[0;34m()\u001b[0m\n\u001b[0;32m----> 1\u001b[0;31m \u001b[0moutliers_mahal\u001b[0m\u001b[0;34m,\u001b[0m \u001b[0mmd\u001b[0m \u001b[0;34m=\u001b[0m \u001b[0mmahalanobis_method\u001b[0m\u001b[0;34m(\u001b[0m\u001b[0mdf2\u001b[0m\u001b[0;34m)\u001b[0m\u001b[0;34m\u001b[0m\u001b[0;34m\u001b[0m\u001b[0m\n\u001b[0m",
            "\u001b[0;32m<ipython-input-16-9eb6b1be1eae>\u001b[0m in \u001b[0;36mmahalanobis_method\u001b[0;34m(df)\u001b[0m\n\u001b[1;32m      7\u001b[0m     \u001b[0minv_covmat\u001b[0m \u001b[0;34m=\u001b[0m \u001b[0msp\u001b[0m\u001b[0;34m.\u001b[0m\u001b[0mlinalg\u001b[0m\u001b[0;34m.\u001b[0m\u001b[0minv\u001b[0m\u001b[0;34m(\u001b[0m\u001b[0mcov\u001b[0m\u001b[0;34m)\u001b[0m                     \u001b[0;31m#Inverse covariance\u001b[0m\u001b[0;34m\u001b[0m\u001b[0;34m\u001b[0m\u001b[0m\n\u001b[1;32m      8\u001b[0m     \u001b[0mleft_term\u001b[0m \u001b[0;34m=\u001b[0m \u001b[0mnp\u001b[0m\u001b[0;34m.\u001b[0m\u001b[0mdot\u001b[0m\u001b[0;34m(\u001b[0m\u001b[0mx_minus_mu\u001b[0m\u001b[0;34m,\u001b[0m \u001b[0minv_covmat\u001b[0m\u001b[0;34m)\u001b[0m\u001b[0;34m\u001b[0m\u001b[0;34m\u001b[0m\u001b[0m\n\u001b[0;32m----> 9\u001b[0;31m     \u001b[0mmahal\u001b[0m \u001b[0;34m=\u001b[0m \u001b[0mnp\u001b[0m\u001b[0;34m.\u001b[0m\u001b[0mdot\u001b[0m\u001b[0;34m(\u001b[0m\u001b[0mleft_term\u001b[0m\u001b[0;34m,\u001b[0m \u001b[0mx_minus_mu\u001b[0m\u001b[0;34m.\u001b[0m\u001b[0mT\u001b[0m\u001b[0;34m)\u001b[0m\u001b[0;34m\u001b[0m\u001b[0;34m\u001b[0m\u001b[0m\n\u001b[0m\u001b[1;32m     10\u001b[0m     \u001b[0mmd\u001b[0m \u001b[0;34m=\u001b[0m \u001b[0mnp\u001b[0m\u001b[0;34m.\u001b[0m\u001b[0msqrt\u001b[0m\u001b[0;34m(\u001b[0m\u001b[0mmahal\u001b[0m\u001b[0;34m.\u001b[0m\u001b[0mdiagonal\u001b[0m\u001b[0;34m(\u001b[0m\u001b[0;34m)\u001b[0m\u001b[0;34m)\u001b[0m\u001b[0;34m\u001b[0m\u001b[0;34m\u001b[0m\u001b[0m\n\u001b[1;32m     11\u001b[0m \u001b[0;34m\u001b[0m\u001b[0m\n",
            "\u001b[0;32m<__array_function__ internals>\u001b[0m in \u001b[0;36mdot\u001b[0;34m(*args, **kwargs)\u001b[0m\n",
            "\u001b[0;31mMemoryError\u001b[0m: Unable to allocate 357. TiB for an array with shape (7003802, 7003802) and data type float64"
          ]
        }
      ]
    }
  ]
}